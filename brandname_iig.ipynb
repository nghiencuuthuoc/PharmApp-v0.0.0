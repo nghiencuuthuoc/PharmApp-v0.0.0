{
 "cells": [
  {
   "cell_type": "markdown",
   "id": "a8ef2f2f",
   "metadata": {},
   "source": [
    "<a href=\"https://github.com/nghiencuuthuoc/PharmApp/PharmApp.ipynb\" target=\"_parent\"><img src=\"https://colab.research.google.com/assets/colab-badge.svg\" alt=\"Open In Colab\"/></a>\n",
    "\n",
    "![](https://raw.githubusercontent.com/nghiencuuthuoc/PharmApp/master/PharmApp-logo.png)\n",
    "# PharmApp - Drug Discovery and Development\n",
    "Copyright 2021 | Nghiên Cứu Thuốc | RD Pharma Plus\n",
    "\n",
    "Email: nghiencuuthuoc@gmail.com | info@nghiencuuthuoc.com\n",
    "\n",
    "Web: http://www.nghiencuuthuoc.com\n",
    "\n",
    "See more: https://twitter.com/nghiencuuthuoc | https://facebook.com/nghiencuuthuoc"
   ]
  },
  {
   "cell_type": "markdown",
   "id": "71e35689",
   "metadata": {},
   "source": [
    "# PharmApp - Brand Name Drugs"
   ]
  },
  {
   "cell_type": "markdown",
   "id": "b51d8689",
   "metadata": {},
   "source": [
    "> [**Reference:**](https://github.com/nghiencuuthuoc/PharmApp)"
   ]
  },
  {
   "cell_type": "markdown",
   "id": "56d3bcc5",
   "metadata": {},
   "source": [
    "## drugbank_top_products\n"
   ]
  },
  {
   "cell_type": "markdown",
   "id": "956c9d70",
   "metadata": {},
   "source": [
    "## Top 200 drugs from "
   ]
  },
  {
   "cell_type": "raw",
   "id": "99b209aa",
   "metadata": {},
   "source": [
    "Lexapro Vicodin Prinivil Qbrelis Zocor Synthroid Amoxil Trimox Zithromax Microzide Aquazide Norvasc Xanax Glucophage\n",
    "\n",
    "Lipitor Prilosec Cipro Proquin Zofran Clozaril Lasix Levitra Sumycin Ala-Tet Brodspec Heparin Valcyte Lamictal Diflucan\n",
    "Tenormin Singulair Flonase Zyloprim Fosamax Pepcid Omnicef Yaz Apresoline Cogentin Tussionex Paxil Ativan Pyridium\n",
    "Plaquenil Lidoderm Cataflam Rayos Deltasone Zetia Evista Dilantin Lovaza Zanaflex Hytrin Dyrenium Altace Pravachol Risperdal Lunesta Celebrex Premarin Avelox Aricept Macrobid Macrodantin Duragesic Imdur Prozac Sarafem Aristocort Suboxone Vyvanse Pamelor HumaLOG Depacon Depakote BetaSept ChloraPrep Bentyl Imitrex Protonix Lopressor Robitussen Valium Viagra \n",
    "\n",
    "Bactroban Januvia Reglan Relafen Keflex Effexor Boniva Zantac Ex-Lax Senna NovoLog Bayer Ecotrin Bufferin Lioresal Flagyl \n",
    "\n",
    "Keppra Colcrys Mitigare Zyprexa Avodart TriCor Antara Cardura Aleve Aldactone Namenda Methadose Vasotec Epaned Tamiflu Requip PC Pen Strattera Ambien Advair Levaquin Tofranil Reclast Zometa Glucotrol Constulose AcipHex Otrexup Cleocin Tylenol \n",
    "\n",
    "Feosol Relpax Carbacot Robaxin DiaBeta Celexa Benicar Coreg Spiriva Xolair NitroStat Eliquis Neurontin Enbrel Herceptin\n",
    "\n",
    "Atripla Xarelto Stalevo Fioricet Levemir Lovenox Ritalin Concerta Crestor Xgeva Prolia Pradaxa Sensipar Vesicare Haldol\n",
    "\n",
    "Ala-Cort HumuLIN Isentress Stelara Mobic Remicade Night Renvela Fragmin Zoloft Klonopin Avalide Ceftin Nizoral Lyrica \n",
    "\n",
    "\n",
    "# \n",
    "Nexium Combivent Niaspan Uroxatral Biaxin Zomig Invokana Saxenda Victoza Alimta Lotrisone Avastin Sovaldi Gilenya Epogen\n",
    "\n",
    "Seroquel Amaryl Percocet SandIMMUNE Neoral Lantus Cialis Elavil Vanatrip Lopid Flo-Pred Advil Aceon Desyrel Actos \n",
    "\n",
    "Proscar Inbrija Dopar Larodopa Actonel ProAir Ventolin Proventil Ultram Sonata Zebeta Zovirax Coumadin Luvox Plavix Vibramycin Adoxa Hyzaar Kytril Sancuso Restoril Prevacid Augmentin Mevacor Altoprev PennKinetic Respimat"
   ]
  },
  {
   "cell_type": "code",
   "execution_count": 20,
   "id": "1005e777",
   "metadata": {
    "scrolled": false
   },
   "outputs": [
    {
     "name": "stdout",
     "output_type": "stream",
     "text": [
      "NitroStat\n",
      "Start import package\n",
      "Import package done!\n",
      "Output file done!\n",
      "Link file done!\n",
      "Output1 file done!\n",
      "Find 1 pages of nitrostat on DailyMed\n",
      "Save link DailyMed of nitrostat on file nitrostat_linklist.txt in folder E:\\DD\\PharmApp\n",
      "Saved file linklist done!\n",
      "Save inactive ingredient of nitrostat on file nitrostat_inactive_ingredient_list.txt infolder E:\\DD\\PharmApp\n",
      "NitroStat done!\n",
      "+---------------------------+---------------------------+\n",
      "Eliquis\n",
      "Start import package\n",
      "Import package done!\n",
      "Link file done!\n",
      "Output1 file done!\n",
      "Find 1 pages of eliquis on DailyMed\n",
      "Save link DailyMed of eliquis on file eliquis_linklist.txt in folder E:\\DD\\PharmApp\n",
      "Saved file linklist done!\n",
      "Save inactive ingredient of eliquis on file eliquis_inactive_ingredient_list.txt infolder E:\\DD\\PharmApp\n",
      "Eliquis done!\n",
      "+---------------------------+---------------------------+\n",
      "Neurontin\n",
      "Start import package\n",
      "Import package done!\n",
      "Link file done!\n",
      "Output1 file done!\n",
      "Find 1 pages of neurontin on DailyMed\n",
      "Save link DailyMed of neurontin on file neurontin_linklist.txt in folder E:\\DD\\PharmApp\n",
      "Saved file linklist done!\n",
      "Save inactive ingredient of neurontin on file neurontin_inactive_ingredient_list.txt infolder E:\\DD\\PharmApp\n",
      "Neurontin done!\n",
      "+---------------------------+---------------------------+\n",
      "Enbrel\n",
      "Start import package\n",
      "Import package done!\n",
      "Link file done!\n",
      "Output1 file done!\n",
      "Find 1 pages of enbrel on DailyMed\n",
      "Save link DailyMed of enbrel on file enbrel_linklist.txt in folder E:\\DD\\PharmApp\n",
      "Saved file linklist done!\n",
      "Save inactive ingredient of enbrel on file enbrel_inactive_ingredient_list.txt infolder E:\\DD\\PharmApp\n",
      "Enbrel done!\n",
      "+---------------------------+---------------------------+\n",
      "Herceptin\n",
      "Start import package\n",
      "Import package done!\n",
      "Link file done!\n",
      "Output1 file done!\n",
      "Find 1 pages of herceptin on DailyMed\n",
      "Save link DailyMed of herceptin on file herceptin_linklist.txt in folder E:\\DD\\PharmApp\n",
      "Saved file linklist done!\n",
      "Save inactive ingredient of herceptin on file herceptin_inactive_ingredient_list.txt infolder E:\\DD\\PharmApp\n",
      "Herceptin done!\n",
      "+---------------------------+---------------------------+\n"
     ]
    }
   ],
   "source": [
    "# top 200 drugs from https://ptcbtestprep.com/top-200-brand-and-generic-drugs/\n",
    "try:\n",
    "    # drug name\n",
    "    drugs_raw = \"NitroStat Eliquis Neurontin Enbrel Herceptin\"\n",
    "    drugs = drugs_raw.split(\" \")\n",
    "    # get inactive ingredient\n",
    "    import pharmapp as pa\n",
    "    for drug in drugs:\n",
    "        print(drug)\n",
    "        pa.get_inactive_ingredient(name_drug=drug)\n",
    "        print(f'{drug} done!')\n",
    "        print(\"+---------------------------+---------------------------+\")\n",
    "        continue\n",
    "except:\n",
    "    \n",
    "#     continue\n",
    "    pass\n",
    "# finally:\n",
    "#     continue"
   ]
  },
  {
   "cell_type": "code",
   "execution_count": 22,
   "id": "6e07d6ca",
   "metadata": {},
   "outputs": [
    {
     "name": "stdout",
     "output_type": "stream",
     "text": [
      "Strattera\n",
      "Start import package\n",
      "Import package done!\n",
      "Output file done!\n",
      "Link file done!\n",
      "Output1 file done!\n",
      "Find 1 pages of strattera on DailyMed\n",
      "Save link DailyMed of strattera on file strattera_linklist.txt in folder E:\\DD\\PharmApp\n",
      "Saved file linklist done!\n",
      "Save inactive ingredient of strattera on file strattera_inactive_ingredient_list.txt infolder E:\\DD\\PharmApp\n",
      "Strattera done!\n",
      "+---------------------------+---------------------------+\n",
      "Ambien\n",
      "Start import package\n",
      "Import package done!\n",
      "Link file done!\n",
      "Output1 file done!\n",
      "Find 1 pages of ambien on DailyMed\n",
      "Save link DailyMed of ambien on file ambien_linklist.txt in folder E:\\DD\\PharmApp\n",
      "Saved file linklist done!\n",
      "Save inactive ingredient of ambien on file ambien_inactive_ingredient_list.txt infolder E:\\DD\\PharmApp\n",
      "Ambien done!\n",
      "+---------------------------+---------------------------+\n",
      "Advair\n",
      "Start import package\n",
      "Import package done!\n",
      "Link file done!\n",
      "Output1 file done!\n",
      "Find 1 pages of advair on DailyMed\n",
      "Save link DailyMed of advair on file advair_linklist.txt in folder E:\\DD\\PharmApp\n",
      "Saved file linklist done!\n",
      "Save inactive ingredient of advair on file advair_inactive_ingredient_list.txt infolder E:\\DD\\PharmApp\n",
      "Advair done!\n",
      "+---------------------------+---------------------------+\n",
      "Levaquin\n",
      "Start import package\n",
      "Import package done!\n",
      "Link file done!\n",
      "Output1 file done!\n",
      "Find 1 pages of levaquin on DailyMed\n",
      "Save link DailyMed of levaquin on file levaquin_linklist.txt in folder E:\\DD\\PharmApp\n",
      "Saved file linklist done!\n",
      "Save inactive ingredient of levaquin on file levaquin_inactive_ingredient_list.txt infolder E:\\DD\\PharmApp\n",
      "Levaquin done!\n",
      "+---------------------------+---------------------------+\n",
      "Tofranil\n",
      "Start import package\n",
      "Import package done!\n",
      "Link file done!\n",
      "Output1 file done!\n",
      "Find 1 pages of tofranil on DailyMed\n",
      "Save link DailyMed of tofranil on file tofranil_linklist.txt in folder E:\\DD\\PharmApp\n",
      "Saved file linklist done!\n",
      "Save inactive ingredient of tofranil on file tofranil_inactive_ingredient_list.txt infolder E:\\DD\\PharmApp\n",
      "Tofranil done!\n",
      "+---------------------------+---------------------------+\n",
      "Reclast\n",
      "Start import package\n",
      "Import package done!\n",
      "Link file done!\n",
      "Output1 file done!\n",
      "Not find reclast on DailyMed\n"
     ]
    }
   ],
   "source": [
    "# top 200 drugs from https://ptcbtestprep.com/top-200-brand-and-generic-drugs/\n",
    "try:\n",
    "    # drug name\n",
    "    drugs_raw = \"Strattera Ambien Advair Levaquin Tofranil Reclast Zometa Glucotrol Constulose AcipHex Otrexup Cleocin Tylenol\"\n",
    "    drugs = drugs_raw.split(\" \")\n",
    "    # get inactive ingredient\n",
    "    import pharmapp as pa\n",
    "    for drug in drugs:\n",
    "        print(drug)\n",
    "        pa.get_inactive_ingredient(name_drug=drug)\n",
    "        print(f'{drug} done!')\n",
    "        print(\"+---------------------------+---------------------------+\")\n",
    "        continue\n",
    "except:\n",
    "    \n",
    "#     continue\n",
    "    pass\n",
    "# finally:\n",
    "#     continue"
   ]
  },
  {
   "cell_type": "code",
   "execution_count": null,
   "id": "f9519b96",
   "metadata": {},
   "outputs": [],
   "source": [
    "import pandas as pd\n",
    "df_iig = pd.Dat"
   ]
  },
  {
   "cell_type": "code",
   "execution_count": null,
   "id": "d62d652a",
   "metadata": {},
   "outputs": [],
   "source": [
    "def writeHandlesToFile():\n",
    "    while True:\n",
    "        with open(\"dataFile.txt\",\"w\") as f:\n",
    "            try:\n",
    "                lst = tweepy.Cursor(tweepy.api.followers,screen_name='someHandle',).items(100000)\n",
    "                print \"cursor executed\"\n",
    "                for item in lst:\n",
    "                    f.write(item.screen_name+\"\\n\")\n",
    "                break\n",
    "            except tweepy.error.TweepError as e:\n",
    "                print \"In the except method\"\n",
    "                print e\n",
    "                time.sleep(3600)"
   ]
  }
 ],
 "metadata": {
  "kernelspec": {
   "display_name": "Python 3 (ipykernel)",
   "language": "python",
   "name": "python3"
  },
  "language_info": {
   "codemirror_mode": {
    "name": "ipython",
    "version": 3
   },
   "file_extension": ".py",
   "mimetype": "text/x-python",
   "name": "python",
   "nbconvert_exporter": "python",
   "pygments_lexer": "ipython3",
   "version": "3.9.6"
  }
 },
 "nbformat": 4,
 "nbformat_minor": 5
}
