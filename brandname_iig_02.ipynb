{
 "cells": [
  {
   "cell_type": "markdown",
   "id": "a8ef2f2f",
   "metadata": {},
   "source": [
    "<a href=\"https://github.com/nghiencuuthuoc/PharmApp/PharmApp.ipynb\" target=\"_parent\"><img src=\"https://colab.research.google.com/assets/colab-badge.svg\" alt=\"Open In Colab\"/></a>\n",
    "\n",
    "![](https://raw.githubusercontent.com/nghiencuuthuoc/PharmApp/master/PharmApp-logo.png)\n",
    "# PharmApp - Drug Discovery and Development\n",
    "Copyright 2021 | Nghiên Cứu Thuốc | RD Pharma Plus\n",
    "\n",
    "Email: nghiencuuthuoc@gmail.com | info@nghiencuuthuoc.com\n",
    "\n",
    "Web: http://www.nghiencuuthuoc.com\n",
    "\n",
    "See more: https://twitter.com/nghiencuuthuoc | https://facebook.com/nghiencuuthuoc"
   ]
  },
  {
   "cell_type": "markdown",
   "id": "71e35689",
   "metadata": {},
   "source": [
    "# PharmApp - GENERIC DRUG IIG"
   ]
  },
  {
   "cell_type": "markdown",
   "id": "b51d8689",
   "metadata": {},
   "source": [
    "> [**Reference:**](https://github.com/nghiencuuthuoc/PharmApp)"
   ]
  },
  {
   "cell_type": "markdown",
   "id": "a285f9ca",
   "metadata": {},
   "source": [
    "## Get iig one drug name"
   ]
  },
  {
   "cell_type": "code",
   "execution_count": null,
   "id": "9746c915",
   "metadata": {},
   "outputs": [],
   "source": [
    "# Input name\n",
    "drug_raw_temp = str(input(\"Enter name: \"))\n",
    "drug_raw = drug_raw_temp.lower()\n",
    "drug_raw_csv = drug_raw + \"_inactive_ingredient_list.txt\"\n",
    "\n",
    "# Save file inactive_ingredient_list.txt\n",
    "try:\n",
    "    # drug name\n",
    "    # drug_raw = \"chondroitin\"\n",
    "#     drug = drug_raw.split(\" \")\n",
    "    # get inactive ingredient\n",
    "    drug = drug_raw\n",
    "    import pharmapp as pa\n",
    "#     for drug in drug:\n",
    "    print(drug)\n",
    "    pa.get_inactive_ingredient(name_drug=drug)\n",
    "    print(f'{drug} done!')\n",
    "    print(\"+---------------------------+---------------------------+\")\n",
    "except:\n",
    "    \n",
    "#     continue\n",
    "    pass\n",
    "# finally:\n",
    "#     continue\n",
    "\n",
    "# view data\n",
    "import pandas as pd\n",
    "pd.set_option(\"display.max_rows\", None, \"display.max_columns\", None)\n",
    "\n",
    "df_iig = pd.read_csv(drug_raw_csv)\n",
    "df_iig"
   ]
  },
  {
   "cell_type": "markdown",
   "id": "56d3bcc5",
   "metadata": {},
   "source": [
    "## Get iig for multi drug"
   ]
  },
  {
   "cell_type": "code",
   "execution_count": null,
   "id": "fd5322b8",
   "metadata": {},
   "outputs": [],
   "source": [
    "# Input name\n",
    "drugs_raw_temp = str(input(\"Enter name: \"))\n",
    "\n",
    "# Save file inactive_ingredient_list.txt\n",
    "try:\n",
    "    # drug name\n",
    "    drugs_raw = drugs_raw_temp\n",
    "    drugs = drugs_raw.split(\" \")\n",
    "    # get inactive ingredient\n",
    "    import pharmapp as pa\n",
    "    for drug in drugs:\n",
    "        print(drug)\n",
    "        pa.get_inactive_ingredient(name_drug=drug)\n",
    "        print(f'{drug} done!')\n",
    "        print(\"+---------------------------+---------------------------+\")\n",
    "        continue\n",
    "except:\n",
    "    \n",
    "#     continue\n",
    "    pass\n",
    "# finally:\n",
    "#     continue"
   ]
  },
  {
   "cell_type": "code",
   "execution_count": null,
   "id": "f99790e8",
   "metadata": {},
   "outputs": [],
   "source": [
    "# Input name\n",
    "name_raw_temp = str(input(\"Enter name: \"))\n",
    "name_raw = name_raw_temp.lower()\n",
    "name_raw_csv = name_raw + \"_inactive_ingredient_list.txt\"\n",
    "\n",
    "# view data\n",
    "import pandas as pd\n",
    "pd.set_option(\"display.max_rows\", None, \"display.max_columns\", None)\n",
    "\n",
    "df_iig = pd.read_csv(name_raw_csv)\n",
    "df_iig"
   ]
  }
 ],
 "metadata": {
  "kernelspec": {
   "display_name": "Python 3 (ipykernel)",
   "language": "python",
   "name": "python3"
  },
  "language_info": {
   "codemirror_mode": {
    "name": "ipython",
    "version": 3
   },
   "file_extension": ".py",
   "mimetype": "text/x-python",
   "name": "python",
   "nbconvert_exporter": "python",
   "pygments_lexer": "ipython3",
   "version": "3.9.6"
  }
 },
 "nbformat": 4,
 "nbformat_minor": 5
}
