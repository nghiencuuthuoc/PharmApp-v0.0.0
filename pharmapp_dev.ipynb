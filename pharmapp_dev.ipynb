{
 "cells": [
  {
   "cell_type": "markdown",
   "id": "a8ef2f2f",
   "metadata": {},
   "source": [
    "<a href=\"https://github.com/nghiencuuthuoc/PharmApp/PharmApp.ipynb\" target=\"_parent\"><img src=\"https://colab.research.google.com/assets/colab-badge.svg\" alt=\"Open In Colab\"/></a>\n",
    "\n",
    "![](https://raw.githubusercontent.com/nghiencuuthuoc/PharmApp/master/PharmApp-logo.png)\n",
    "# PharmApp - Drug Discovery and Development\n",
    "Copyright 2021 | Nghiên Cứu Thuốc | RD Pharma Plus\n",
    "\n",
    "Email: nghiencuuthuoc@gmail.com | info@nghiencuuthuoc.com\n",
    "\n",
    "Web: http://www.nghiencuuthuoc.com\n",
    "\n",
    "See more: https://twitter.com/nghiencuuthuoc | https://facebook.com/nghiencuuthuoc"
   ]
  },
  {
   "cell_type": "markdown",
   "id": "71e35689",
   "metadata": {},
   "source": [
    "# PharmApp"
   ]
  },
  {
   "cell_type": "markdown",
   "id": "b51d8689",
   "metadata": {},
   "source": [
    "> [**Reference:**](https://github.com/nghiencuuthuoc/PharmApp)"
   ]
  },
  {
   "cell_type": "markdown",
   "id": "d0f4a5b1",
   "metadata": {},
   "source": [
    "## move_file\n",
    "https://stackoverflow.com/questions/8858008/how-to-move-a-file-in-python"
   ]
  },
  {
   "cell_type": "code",
   "execution_count": null,
   "id": "2151c34b",
   "metadata": {},
   "outputs": [],
   "source": [
    "import os\n",
    "import shutil\n",
    "\n",
    "os.rename(\"path/to/current/file.foo\", \"path/to/new/destination/for/file.foo\")\n",
    "os.replace(\"path/to/current/file.foo\", \"path/to/new/destination/for/file.foo\")\n",
    "shutil.move(\"path/to/current/file.foo\", \"path/to/new/destination/for/file.foo\")"
   ]
  },
  {
   "cell_type": "code",
   "execution_count": null,
   "id": "4b3b89e0",
   "metadata": {},
   "outputs": [],
   "source": [
    "import os\n",
    "import shutil\n",
    "drug =  \"Sonata\"\n",
    "drug = drug.lower()\n",
    "name_file_inactive_ingredient_list = drug + \"_inactive_ingredient_list.txt\"\n",
    "name_file_linklist = drug + \"_linklist.txt\""
   ]
  },
  {
   "cell_type": "code",
   "execution_count": null,
   "id": "1274af20",
   "metadata": {},
   "outputs": [],
   "source": [
    "import os, shutil\n",
    "path = \"/volume1/Users/Transfer/\"\n",
    "moveto = \"/volume1/Users/Drive_Transfer/\"\n",
    "files = os.listdir(path)\n",
    "files.sort()\n",
    "for f in files:\n",
    "    src = path+f\n",
    "    dst = moveto+f\n",
    "    shutil.move(src,dst)"
   ]
  },
  {
   "cell_type": "markdown",
   "id": "970f8187",
   "metadata": {},
   "source": [
    "## multi process"
   ]
  },
  {
   "cell_type": "code",
   "execution_count": null,
   "id": "c4367ee5",
   "metadata": {},
   "outputs": [],
   "source": [
    "drugs = [\"Metformin\", \"Hydrochloride\", \"Amlodipine\", \"Metoprolol\", \"Albuterol\", \"Omeprazole\", \"Losartan\", \"Potassium\", \"Simvastatin\"]\n",
    "import pharmapp as pa\n",
    "for drug in drugs:\n",
    "    print(drug)\n",
    "    pa.get_inactive_ingredient(name_drug=drug)\n",
    "    print(f'{drug} done!')"
   ]
  },
  {
   "cell_type": "code",
   "execution_count": 4,
   "id": "85f268c7",
   "metadata": {},
   "outputs": [
    {
     "name": "stdout",
     "output_type": "stream",
     "text": [
      "Metformin\n"
     ]
    }
   ],
   "source": [
    "# pass error method 1\n",
    "from contextlib import suppress\n",
    "\n",
    "with suppress(Exception):\n",
    "    drugs = [\"Metformin\", \"Hydrochloride\", \"Amlodipine\", \"Metoprolol\", \"Albuterol\", \"Omeprazole\", \"Losartan\", \"Potassium\", \"Simvastatin\"]\n",
    "    import pharmapp as pa\n",
    "    for drug in drugs:\n",
    "        print(drug)\n",
    "        get_inactive_ingredient(name_drug=drug)\n",
    "        print(f'{drug} done!')"
   ]
  },
  {
   "cell_type": "code",
   "execution_count": 2,
   "id": "1b523bef",
   "metadata": {},
   "outputs": [
    {
     "name": "stdout",
     "output_type": "stream",
     "text": [
      "Metformin\n"
     ]
    }
   ],
   "source": [
    "# pass error method 2\n",
    "try:\n",
    "    drugs = [\"Metformin\", \"Hydrochloride\", \"Amlodipine\", \"Metoprolol\", \"Albuterol\", \"Omeprazole\", \"Losartan\", \"Potassium\", \"Simvastatin\"]\n",
    "    import pharmapp as pa\n",
    "    for drug in drugs:\n",
    "        print(drug)\n",
    "        get_inactive_ingredient(name_drug=drug)\n",
    "        print(f'{drug} done!')\n",
    "except:\n",
    "    pass"
   ]
  },
  {
   "cell_type": "markdown",
   "id": "b157a696",
   "metadata": {},
   "source": [
    "## fix error: Can only use .str accessor with string values!"
   ]
  },
  {
   "cell_type": "markdown",
   "id": "07907753",
   "metadata": {},
   "source": [
    "### function: get_inactive_ingredient(name_drug)"
   ]
  },
  {
   "cell_type": "markdown",
   "id": "af333ecd",
   "metadata": {},
   "source": [
    "## enter name drug"
   ]
  },
  {
   "cell_type": "code",
   "execution_count": 3,
   "id": "e0b08f8d",
   "metadata": {},
   "outputs": [],
   "source": [
    "name_drug =  \"Acetylcholine\""
   ]
  },
  {
   "cell_type": "markdown",
   "id": "c9b38a0c",
   "metadata": {},
   "source": [
    "### repare file output"
   ]
  },
  {
   "cell_type": "code",
   "execution_count": 5,
   "id": "847b972a",
   "metadata": {},
   "outputs": [
    {
     "name": "stdout",
     "output_type": "stream",
     "text": [
      "Start import package\n",
      "Import package done!\n",
      "Outout file done!\n",
      "Link file done!\n",
      "Outout1 file done!\n"
     ]
    }
   ],
   "source": [
    "print(\"Start import package\")\n",
    "from bs4 import BeautifulSoup as bsoup\n",
    "import requests\n",
    "import re\n",
    "import urllib\n",
    "from urllib.request import urlopen\n",
    "# import ssl\n",
    "from itertools import groupby\n",
    "import pandas as pd\n",
    "import numpy as np\n",
    "import os\n",
    "print(\"Import package done!\")\n",
    "# Remove old file\n",
    "# os.remove(\"output.txt\")\n",
    "\n",
    "if os.path.exists('output.txt'):\n",
    "    os.remove('output.txt')\n",
    "else:\n",
    "    print(\"Outout file done!\")\n",
    "if os.path.exists('linklist.txt'):\n",
    "    os.remove('linklist.txt')\n",
    "else:\n",
    "    print(\"Link file done!\")\n",
    "\n",
    "if os.path.exists('output1.txt'):\n",
    "    os.remove('output1.txt')\n",
    "else:\n",
    "    print(\"Outout1 file done!\")\n",
    "\n",
    "# # clear screen\n",
    "# clear = lambda: os.system('cls')\n",
    "# clear()"
   ]
  },
  {
   "cell_type": "markdown",
   "id": "a22efe1d",
   "metadata": {},
   "source": [
    "### get df"
   ]
  },
  {
   "cell_type": "code",
   "execution_count": 6,
   "id": "adb655e4",
   "metadata": {},
   "outputs": [
    {
     "name": "stdout",
     "output_type": "stream",
     "text": [
      "Find 5 pages of acetylcholine on DailyMed\n",
      "Save link DailyMed of acetylcholine on file acetylcholine_linklist.txt in folder E:\\DD\\PharmApp\n",
      "Save link DailyMed of acetylcholine on file acetylcholine_linklist.txt in folder E:\\DD\\PharmApp\n",
      "Save link DailyMed of acetylcholine on file acetylcholine_linklist.txt in folder E:\\DD\\PharmApp\n",
      "Save link DailyMed of acetylcholine on file acetylcholine_linklist.txt in folder E:\\DD\\PharmApp\n",
      "Save link DailyMed of acetylcholine on file acetylcholine_linklist.txt in folder E:\\DD\\PharmApp\n"
     ]
    }
   ],
   "source": [
    "drug_raw = name_drug\n",
    "drug = drug_raw.lower()\n",
    "# new_name = input(\"name for output file: \") # for rename\n",
    "new_name =  drug\n",
    "base_url = 'https://dailymed.nlm.nih.gov/dailymed/search.cfm?labeltype=all&query=' + drug\n",
    "r = requests.get(base_url)\n",
    "\n",
    "soup = bsoup(r.text, 'html.parser')\n",
    "#finds all the total pages tags#\n",
    "numpages = soup.find_all('span', re.compile(r\".*total-pages.*\"))\n",
    "# totpage = list()\n",
    "\n",
    "x = list()\n",
    "for num in numpages:\n",
    "    num = str(num)\n",
    "    x = re.findall('>(.*?)<', num)\n",
    "\n",
    "if len(x) == 0:\n",
    "    print(f\"Not find {drug} on DailyMed\")\n",
    "else:\n",
    "    print(f\"Find {int(x[0])} pages of {drug} on DailyMed\")\n",
    "\n",
    "totalpages = int(x[0])\n",
    "\n",
    "# Add 1 because Python range.\n",
    "url_list = [\"{}&page={}\".format(base_url, str(page)) for page in range(1, totalpages + 1)]\n",
    "# print(url_list)\n",
    "\n",
    "## Second Part: Take the lista of links and get a list of those links#######\n",
    "\n",
    "for fff in url_list:\n",
    "    # For avoid 403-error using User-Agent\n",
    "    req = urllib.request.Request(fff, headers={'User-Agent' : \"Magic Browser\"})\n",
    "    response = urllib.request.urlopen( req )\n",
    "    html = response.read()\n",
    "    # Parsing response\n",
    "    soup = bsoup(html, 'html.parser')\n",
    "    wwwlist= list()\n",
    "    tags= soup('a')\n",
    "    for tag in tags:\n",
    "        mlink = tag.get('href')\n",
    "        wwwlist.append(mlink)\n",
    "    resi = list()\n",
    "    for x in wwwlist:\n",
    "        if x == None:\n",
    "            wwwlist.remove(x)\n",
    "            continue\n",
    "    goodlist = list(filter(None, wwwlist)) #this removes Nonetype from the list, this was a problem\n",
    "    subs = 'dailymed/drugInfo.cfm' #gives  variable to what im looking for\n",
    "    resi = [i for i in goodlist if subs in i] #finds all the links\n",
    "    linklist = list()\n",
    "    for long in resi:\n",
    "        long = \"https://dailymed.nlm.nih.gov\" + long #this add to the full website\n",
    "        linklist.append(long)\n",
    "        # print(linklist)\n",
    "#         with open(\"linklist.txt\", 'w') as output:\n",
    "#             for row in linklist:\n",
    "#                 output.write(str(row) + '\\n')\n",
    "#         continue\n",
    "        with open(\"linklist.txt\", 'a') as output:\n",
    "            for row in linklist:\n",
    "                output.write(str(row) + '\\n')\n",
    "        continue\n",
    "\n",
    "\n",
    "### This takes all the links and adds them to the database\n",
    "####    Note this does not work yet for BRAND and COMBO Drugs\n",
    "\n",
    "#     for bbb in linklist:\n",
    "#         html = urlopen(bbb).read() #note removed , context=ctx from the urlopen (bbb)\n",
    "#         soup = bsoup(html, \"html.parser\")\n",
    "#         newlist = list()\n",
    "#         tags = soup('td') #this looks through the website and finds tags with \"td\")\n",
    "#         for tag in tags:\n",
    "#             tag = str(tag)\n",
    "#             if tag == \".\":\n",
    "#                 tags.remove(tag)\n",
    "#                 continue\n",
    "#             ndc = (re.findall(\"NDC:(.*?)</td>\", tag)) #finds all the NDCs\n",
    "#             for num in ndc:\n",
    "#                 num = str(num)\n",
    "#                 num = (re.findall(\"([0-9.\\-]+)\", num))\n",
    "#                 for small in num:\n",
    "#                     shortndc = small[:+10] #trims the NDCS to first 7 digits\n",
    "#                     if shortndc not in newlist:\n",
    "#                         newlist.append(shortndc)\n",
    "#                         continue\n",
    "#             ing = (re.findall(\"<strong>(.*?)</strong>\", tag)) #finds all the ingredients\n",
    "#             for lala in ing:\n",
    "#                 newlist.append(lala)\n",
    "#                 continue\n",
    "#             form = (re.findall('<span class=\"contentTableReg\">(.*?)/span>', tag)) #finds all the formulations\n",
    "#             for newnew in form:\n",
    "#                 newlist.append(newnew)\n",
    "#                 continue\n",
    "#             strength = (re.findall('<td class=\"formItem\">([0-9].*?)</td>', tag)) #this finds all strentghs and below removes fluff\n",
    "#             for gggg in strength:\n",
    "#                 if \"BOTTLE\" in gggg:\n",
    "#                     continue\n",
    "#                 elif \"mm\" in gggg:\n",
    "#                     strength.remove(gggg)\n",
    "#                     continue\n",
    "#                 elif \"pieces\" in gggg:\n",
    "#                     strength.remove(gggg)\n",
    "#                     continue\n",
    "#                 elif \"/\" in gggg: #this could be a problem for some meds.  dates with slashes showed up in apixiban so added this to remove them\n",
    "#                     strength.remove(gggg)\n",
    "#                     continue\n",
    "#                 elif gggg.isdigit(): #this could be a problem.  APixiban had some odd number and this removed it\n",
    "#                     strength.remove(gggg)\n",
    "#                     continue\n",
    "#                 newlist.append(gggg + 'stren')\n",
    "#         for period in newlist: #this was for the apixiban url.  For some reason it had a period in the newlist\n",
    "#             if period == \".\":\n",
    "#                 newlist.remove(period)\n",
    "#                 continue\n",
    "#         res = [i[0] for i in groupby(newlist)] #this removes duplicate strings next to each other\n",
    "\n",
    "#         hdlist = list() #this list gives the drug name a handle to split on\n",
    "#         for drug in res:\n",
    "#             if drug == res[2]: #this puts a handle on the third item in the list, which is the main drug\n",
    "#                 drug = drug + \"111999\"\n",
    "#                 hdlist.append(drug)\n",
    "#             elif drug.endswith('stren'): #this puts a handle on strength\n",
    "#                 drug = drug + 'stren'\n",
    "#                 hdlist.append(drug)\n",
    "#             elif drug[0].isdigit(): #this puts a handle on the NDC\n",
    "#                 drug = drug + 'happy'\n",
    "#                 hdlist.append(drug)\n",
    "#             elif drug.endswith('<'): #this puts a handle on the formulation\n",
    "#                 drug = drug + 'mad'\n",
    "#                 hdlist.append(drug)\n",
    "#             else:\n",
    "#                 drug = drug + \"888000\" #this puts a handlbetadibee on the inactive ingredients\n",
    "#                 hdlist.append(drug)\n",
    "\n",
    "#         df = pd.DataFrame(hdlist)"
   ]
  },
  {
   "cell_type": "code",
   "execution_count": null,
   "id": "269862d8",
   "metadata": {},
   "outputs": [],
   "source": [
    "# Rename linklist\n",
    "old_name1 = 'linklist.txt'\n",
    "name_linklist = new_name+\"_linklist\" +\".txt\"\n",
    "if os.path.exists(name_linklist):\n",
    "    os.remove(name_linklist)\n",
    "    os.rename(old_name1,name_linklist)\n",
    "else:\n",
    "    os.rename(old_name1,name_linklist)\n",
    "print(f\"Save link DailyMed of {new_name} on file {name_linklist} in folder {os.getcwd()}\")"
   ]
  },
  {
   "cell_type": "code",
   "execution_count": null,
   "id": "584a25f8",
   "metadata": {},
   "outputs": [],
   "source": [
    "df"
   ]
  },
  {
   "cell_type": "code",
   "execution_count": null,
   "id": "0cf58c7e",
   "metadata": {},
   "outputs": [],
   "source": [
    "df = df.rename(columns = {0 : 'stuff'}) #gives the column a name \"stuff\"\n",
    "df['MainDrug'] = df['stuff'].apply(lambda x: x.split('111999')[0].strip() if x.count('111999') > 0 else np.NaN).fillna(method='ffill') #this pulls all main drug names into a column\n",
    "df['Inactive'] = df['stuff'].apply(lambda x: x.split('888000')[0].strip() if x.count('888000') > 0 else np.NaN).fillna(method=\"ffill\")\n",
    "df['NDC'] = df['stuff'].apply(lambda x: x.split('happy')[0].strip() if x.count('happy') > 0 else np.NaN).fillna(method=\"ffill\")\n",
    "df['Strength'] = df['stuff'].apply(lambda x: x.split('strenstren')[0].strip() if x.count('strenstren') > 0 else np.NaN).fillna(method=\"ffill\")\n",
    "df['Formulation'] = df['stuff'].apply(lambda x: x.split('<mad')[0].strip() if x.count('<mad') > 0 else np.NaN).fillna(method=\"ffill\")\n",
    "df = df.dropna().drop('stuff', axis=1).reindex(columns=['MainDrug', 'NDC','Formulation','Inactive', 'Strength']).reset_index(drop=True) #for some reason this line removes all inactive except ndcs\n",
    "df['MainDrug'] = df['MainDrug'].str.lower() #need to make lower case to match that in formulation column\n",
    "df['Formulation']= df['Formulation'].str.lower()\n",
    "df['c'] = [Formulation.replace(MainDrug, '') for Formulation, MainDrug in zip(df['Formulation'], df['MainDrug'])] #this drop the main drug in formulation\n",
    "df = df.drop(['Formulation'], axis=1)\n",
    "df = df.rename(columns = {'c' : 'Formulation'})\n",
    "df = df.reindex(columns=['MainDrug', 'NDC', 'Strength', 'Formulation', 'Inactive']) #this puts the columns in order\n",
    "df_prev = df['Inactive'].shift(1) #this removes duplicates\n",
    "df = df[df.Inactive != df_prev] #this removes duplicates\n",
    "df = df.reset_index().drop_duplicates(subset=['NDC','Inactive'],keep='first').set_index('index') #was getting duplicate inactive, this removes those duplicates\n",
    "# print(df)\n",
    "# df.to_csv(r'output.csv')\n",
    "df.to_csv('output.txt', mode='a', index = False, header=True)\n",
    "# writer = pd.ExcelWriter('output.xlsx')\n",
    "# df.to_excel(writer)\n",
    "# writer.save()"
   ]
  },
  {
   "cell_type": "code",
   "execution_count": null,
   "id": "8a3acb57",
   "metadata": {},
   "outputs": [],
   "source": [
    "# Remove line MainDrug,NDC,Strength,Formulation,Inactive\n",
    "with open(\"output.txt\", \"r\") as f:\n",
    "    lines = f.readlines()\n",
    "with open(\"output.txt\", \"w\") as f:\n",
    "    for line in lines:\n",
    "        if line.strip(\"\\n\") != \"MainDrug,NDC,Strength,Formulation,Inactive\":\n",
    "            f.write(line)\n",
    "\n",
    "# Merge file comtain header\n",
    "import shutil\n",
    "\n",
    "with open('output1.txt','wb') as wfd:\n",
    "    for f in ['header.txt','output.txt']:\n",
    "        with open(f,'rb') as fd:\n",
    "            shutil.copyfileobj(fd, wfd)\n",
    "\n",
    "# rename file output.txt\n",
    "old_name = \"output1.txt\"\n",
    "new_name1 = new_name+\"_inactive_ingredient_list.txt\"\n",
    "if os.path.exists(new_name1):\n",
    "    os.remove(new_name1)\n",
    "    os.rename(old_name,new_name1)\n",
    "else:\n",
    "    os.rename(old_name,new_name1)\n",
    "print(f\"Save inactive ingredient of {new_name} on file {new_name1} infolder {os.getcwd()}\")"
   ]
  }
 ],
 "metadata": {
  "kernelspec": {
   "display_name": "Python 3 (ipykernel)",
   "language": "python",
   "name": "python3"
  },
  "language_info": {
   "codemirror_mode": {
    "name": "ipython",
    "version": 3
   },
   "file_extension": ".py",
   "mimetype": "text/x-python",
   "name": "python",
   "nbconvert_exporter": "python",
   "pygments_lexer": "ipython3",
   "version": "3.9.6"
  }
 },
 "nbformat": 4,
 "nbformat_minor": 5
}
